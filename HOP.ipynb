{
 "cells": [
  {
   "cell_type": "code",
   "execution_count": 4,
   "id": "b16f9a85",
   "metadata": {},
   "outputs": [],
   "source": [
    "# Dependencies and Setup\n",
    "import pandas as pd\n",
    "\n",
    "# File to Load\n",
    "file_to_load = \"HeroesOfPymoli/Resources/purchase_data.csv\"\n",
    "\n",
    "# Read Purchasing File and store into Pandas data frame\n",
    "purchase_data = pd.read_csv(file_to_load)"
   ]
  },
  {
   "cell_type": "code",
   "execution_count": 5,
   "id": "98a93200",
   "metadata": {},
   "outputs": [
    {
     "data": {
      "text/plain": [
       "576"
      ]
     },
     "execution_count": 5,
     "metadata": {},
     "output_type": "execute_result"
    }
   ],
   "source": [
    "user_counts = purchase_data[\"SN\"].unique()\n",
    "len(user_counts)"
   ]
  },
  {
   "cell_type": "code",
   "execution_count": 6,
   "id": "62fdcc79",
   "metadata": {},
   "outputs": [
    {
     "data": {
      "text/html": [
       "<div>\n",
       "<style scoped>\n",
       "    .dataframe tbody tr th:only-of-type {\n",
       "        vertical-align: middle;\n",
       "    }\n",
       "\n",
       "    .dataframe tbody tr th {\n",
       "        vertical-align: top;\n",
       "    }\n",
       "\n",
       "    .dataframe thead th {\n",
       "        text-align: right;\n",
       "    }\n",
       "</style>\n",
       "<table border=\"1\" class=\"dataframe\">\n",
       "  <thead>\n",
       "    <tr style=\"text-align: right;\">\n",
       "      <th></th>\n",
       "      <th>Total Players</th>\n",
       "    </tr>\n",
       "  </thead>\n",
       "  <tbody>\n",
       "    <tr>\n",
       "      <th>0</th>\n",
       "      <td>576</td>\n",
       "    </tr>\n",
       "  </tbody>\n",
       "</table>\n",
       "</div>"
      ],
      "text/plain": [
       "   Total Players\n",
       "0            576"
      ]
     },
     "execution_count": 6,
     "metadata": {},
     "output_type": "execute_result"
    }
   ],
   "source": [
    "player_demographics = purchase_data.loc[:, [\"Gender\", \"SN\", \"Age\"]]\n",
    "player_demographics = player_demographics.drop_duplicates()\n",
    "d = pd.DataFrame([{\"Total Players\":len(player_demographics)}])\n",
    "d"
   ]
  },
  {
   "cell_type": "code",
   "execution_count": 7,
   "id": "2a4104b9",
   "metadata": {},
   "outputs": [],
   "source": [
    "# Q: If DataFrame is a function why can't I put it at the end?"
   ]
  },
  {
   "cell_type": "code",
   "execution_count": 12,
   "id": "64899339",
   "metadata": {},
   "outputs": [
    {
     "data": {
      "text/html": [
       "<div>\n",
       "<style scoped>\n",
       "    .dataframe tbody tr th:only-of-type {\n",
       "        vertical-align: middle;\n",
       "    }\n",
       "\n",
       "    .dataframe tbody tr th {\n",
       "        vertical-align: top;\n",
       "    }\n",
       "\n",
       "    .dataframe thead th {\n",
       "        text-align: right;\n",
       "    }\n",
       "</style>\n",
       "<table border=\"1\" class=\"dataframe\">\n",
       "  <thead>\n",
       "    <tr style=\"text-align: right;\">\n",
       "      <th></th>\n",
       "      <th>Count</th>\n",
       "      <th>Percent</th>\n",
       "    </tr>\n",
       "    <tr>\n",
       "      <th>Gender</th>\n",
       "      <th></th>\n",
       "      <th></th>\n",
       "    </tr>\n",
       "  </thead>\n",
       "  <tbody>\n",
       "    <tr>\n",
       "      <th>Male</th>\n",
       "      <td>484</td>\n",
       "      <td>0.840278</td>\n",
       "    </tr>\n",
       "    <tr>\n",
       "      <th>Female</th>\n",
       "      <td>81</td>\n",
       "      <td>0.140625</td>\n",
       "    </tr>\n",
       "    <tr>\n",
       "      <th>Other</th>\n",
       "      <td>11</td>\n",
       "      <td>0.019097</td>\n",
       "    </tr>\n",
       "  </tbody>\n",
       "</table>\n",
       "</div>"
      ],
      "text/plain": [
       "        Count   Percent\n",
       "Gender                 \n",
       "Male      484  0.840278\n",
       "Female     81  0.140625\n",
       "Other      11  0.019097"
      ]
     },
     "execution_count": 12,
     "metadata": {},
     "output_type": "execute_result"
    }
   ],
   "source": [
    "#o = player_demographics.groupby(\"Gender\").count()\n",
    "#print(o)\n",
    "# Q: When I run the above code I get SN and Age shown, but I get the number count on both, why?\n",
    "\n",
    "gender_count = player_demographics[\"Gender\"].value_counts()\n",
    "gender_percent = player_demographics[\"Gender\"].value_counts(normalize=True)\n",
    "\n",
    "#s = pd.DataFrame({[q[0], r[0]]})\n",
    "#s  <- Why doesnt this produce a table with the info for male?\n",
    "\n",
    "#t = pd.DataFrame([{\"Males\":q[0], \"Percent\": r[0]}])\n",
    "\n",
    "w = pd.DataFrame([{\"Gender\": \"Male\", \"Count\":gender_count[0], \"Percent\": gender_percent[0]},\n",
    "                  {\"Gender\": \"Female\", \"Count\":gender_count[1], \"Percent\": gender_percent[1]},\n",
    "                  {\"Gender\": \"Other\", \"Count\":gender_count[2], \"Percent\": gender_percent[2]}])\n",
    "w.set_index('Gender', inplace=True)\n",
    "\n",
    "#Q: pd.DataFrame([{\"Gender\": \"Male\", \"Count\":q[0], \"Percent\": r[0]}])set_index('Gender', inplace=True)\n",
    "# Why doesn't the above work?\n",
    "\n",
    "w"
   ]
  },
  {
   "cell_type": "code",
   "execution_count": 13,
   "id": "a342ad54",
   "metadata": {},
   "outputs": [
    {
     "data": {
      "text/html": [
       "<div>\n",
       "<style scoped>\n",
       "    .dataframe tbody tr th:only-of-type {\n",
       "        vertical-align: middle;\n",
       "    }\n",
       "\n",
       "    .dataframe tbody tr th {\n",
       "        vertical-align: top;\n",
       "    }\n",
       "\n",
       "    .dataframe thead th {\n",
       "        text-align: right;\n",
       "    }\n",
       "</style>\n",
       "<table border=\"1\" class=\"dataframe\">\n",
       "  <thead>\n",
       "    <tr style=\"text-align: right;\">\n",
       "      <th></th>\n",
       "      <th>Purchase Count</th>\n",
       "      <th>Average Purchase Price</th>\n",
       "      <th>Total Purchase Value</th>\n",
       "      <th>Avg Total Purchase per Person</th>\n",
       "    </tr>\n",
       "    <tr>\n",
       "      <th>Gender</th>\n",
       "      <th></th>\n",
       "      <th></th>\n",
       "      <th></th>\n",
       "      <th></th>\n",
       "    </tr>\n",
       "  </thead>\n",
       "  <tbody>\n",
       "    <tr>\n",
       "      <th>Male</th>\n",
       "      <td>652</td>\n",
       "      <td>3.203009</td>\n",
       "      <td>361.94</td>\n",
       "      <td>3.203009</td>\n",
       "    </tr>\n",
       "    <tr>\n",
       "      <th>Female</th>\n",
       "      <td>113</td>\n",
       "      <td>3.017853</td>\n",
       "      <td>1967.64</td>\n",
       "      <td>3.017853</td>\n",
       "    </tr>\n",
       "    <tr>\n",
       "      <th>Other</th>\n",
       "      <td>15</td>\n",
       "      <td>3.346000</td>\n",
       "      <td>50.19</td>\n",
       "      <td>3.346000</td>\n",
       "    </tr>\n",
       "  </tbody>\n",
       "</table>\n",
       "</div>"
      ],
      "text/plain": [
       "        Purchase Count  Average Purchase Price  Total Purchase Value  \\\n",
       "Gender                                                                 \n",
       "Male               652                3.203009                361.94   \n",
       "Female             113                3.017853               1967.64   \n",
       "Other               15                3.346000                 50.19   \n",
       "\n",
       "        Avg Total Purchase per Person  \n",
       "Gender                                 \n",
       "Male                         3.203009  \n",
       "Female                       3.017853  \n",
       "Other                        3.346000  "
      ]
     },
     "execution_count": 13,
     "metadata": {},
     "output_type": "execute_result"
    }
   ],
   "source": [
    "\n",
    "pc = purchase_data[\"Gender\"].value_counts()\n",
    "app = (purchase_data.groupby([\"Gender\"])[\"Price\"].sum() / purchase_data[\"Gender\"].value_counts())\n",
    "tpv = purchase_data.groupby([\"Gender\"])[\"Price\"].sum()\n",
    "\n",
    "atp = (purchase_data.groupby([\"Gender\"])[\"Price\"].sum() / purchase_data[\"Gender\"].value_counts())\n",
    "\n",
    "    # Variable personal_total = 0 to begin with and variable inst = 1\n",
    "    # If SN is a duplicate, then add \"Price\" to a personal_total and add 1 to inst\n",
    "    # Once through the list devide personal_total by inst for each SN\n",
    "        ## This would work best if you grabbed SN of a row first and compared it to\n",
    "        ## all the rest until there are none left to compare it to\n",
    "        # Maybe this works best in a for loop. For each SN move down the list\n",
    "        # - but then I need to deleate all the instances of SN seen - so deleate\n",
    "        # immediatly after calculation is done before proceeding to the next row\n",
    "\n",
    "\n",
    "\n",
    "v = pd.DataFrame([{\"Gender\": \"Male\", \"Purchase Count\": pc[0], \"Average Purchase Price\": app[0], \"Total Purchase Value\": tpv[0],\"Avg Total Purchase per Person\": atp[0]},\n",
    "                  {\"Gender\": \"Female\", \"Purchase Count\": pc[1], \"Average Purchase Price\": app[1], \"Total Purchase Value\": tpv[1],\"Avg Total Purchase per Person\": atp[1]},\n",
    "                  {\"Gender\": \"Other\", \"Purchase Count\": pc[2], \"Average Purchase Price\": app[2], \"Total Purchase Value\": tpv[2],\"Avg Total Purchase per Person\": atp[2]}])\n",
    "v.set_index('Gender', inplace=True)\n",
    "v\n"
   ]
  },
  {
   "cell_type": "code",
   "execution_count": 15,
   "id": "7526546c",
   "metadata": {},
   "outputs": [
    {
     "ename": "AttributeError",
     "evalue": "'DataFrame' object has no attribute 'cut'",
     "output_type": "error",
     "traceback": [
      "\u001b[1;31m---------------------------------------------------------------------------\u001b[0m",
      "\u001b[1;31mAttributeError\u001b[0m                            Traceback (most recent call last)",
      "\u001b[1;32m~\\AppData\\Local\\Temp/ipykernel_19720/370858858.py\u001b[0m in \u001b[0;36m<module>\u001b[1;34m\u001b[0m\n\u001b[0;32m      4\u001b[0m \u001b[0mgroup_names\u001b[0m \u001b[1;33m=\u001b[0m \u001b[1;33m[\u001b[0m\u001b[1;34m\"0-10\"\u001b[0m\u001b[1;33m,\u001b[0m \u001b[1;34m\"10-20\"\u001b[0m\u001b[1;33m,\u001b[0m \u001b[1;34m\"20-30\"\u001b[0m\u001b[1;33m,\u001b[0m \u001b[1;34m\"30-40\"\u001b[0m\u001b[1;33m,\u001b[0m \u001b[1;34m\"40-50\"\u001b[0m\u001b[1;33m,\u001b[0m\u001b[1;34m\"50-60\"\u001b[0m\u001b[1;33m,\u001b[0m\u001b[1;34m\"70-80\"\u001b[0m\u001b[1;33m,\u001b[0m\u001b[1;34m\"80-90\"\u001b[0m\u001b[1;33m,\u001b[0m\u001b[1;34m\"90-100\"\u001b[0m\u001b[1;33m]\u001b[0m\u001b[1;33m\u001b[0m\u001b[1;33m\u001b[0m\u001b[0m\n\u001b[0;32m      5\u001b[0m \u001b[1;33m\u001b[0m\u001b[0m\n\u001b[1;32m----> 6\u001b[1;33m \u001b[0mplayer_demographics\u001b[0m\u001b[1;33m[\u001b[0m\u001b[1;34m\"Age\"\u001b[0m\u001b[1;33m]\u001b[0m \u001b[1;33m=\u001b[0m \u001b[0mplayer_demographics\u001b[0m\u001b[1;33m.\u001b[0m\u001b[0mcut\u001b[0m\u001b[1;33m(\u001b[0m\u001b[0mdf\u001b[0m\u001b[1;33m[\u001b[0m\u001b[1;34m\"Age\"\u001b[0m\u001b[1;33m]\u001b[0m\u001b[1;33m,\u001b[0m \u001b[0mbins\u001b[0m\u001b[1;33m,\u001b[0m \u001b[0mlabels\u001b[0m\u001b[1;33m=\u001b[0m\u001b[0mgroup_names\u001b[0m\u001b[1;33m,\u001b[0m \u001b[0minclude_lowest\u001b[0m\u001b[1;33m=\u001b[0m\u001b[1;32mTrue\u001b[0m\u001b[1;33m)\u001b[0m\u001b[1;33m\u001b[0m\u001b[1;33m\u001b[0m\u001b[0m\n\u001b[0m\u001b[0;32m      7\u001b[0m \u001b[0mplayer_demographics\u001b[0m\u001b[1;33m\u001b[0m\u001b[1;33m\u001b[0m\u001b[0m\n",
      "\u001b[1;32m~\\anaconda3\\lib\\site-packages\\pandas\\core\\generic.py\u001b[0m in \u001b[0;36m__getattr__\u001b[1;34m(self, name)\u001b[0m\n\u001b[0;32m   5485\u001b[0m         ):\n\u001b[0;32m   5486\u001b[0m             \u001b[1;32mreturn\u001b[0m \u001b[0mself\u001b[0m\u001b[1;33m[\u001b[0m\u001b[0mname\u001b[0m\u001b[1;33m]\u001b[0m\u001b[1;33m\u001b[0m\u001b[1;33m\u001b[0m\u001b[0m\n\u001b[1;32m-> 5487\u001b[1;33m         \u001b[1;32mreturn\u001b[0m \u001b[0mobject\u001b[0m\u001b[1;33m.\u001b[0m\u001b[0m__getattribute__\u001b[0m\u001b[1;33m(\u001b[0m\u001b[0mself\u001b[0m\u001b[1;33m,\u001b[0m \u001b[0mname\u001b[0m\u001b[1;33m)\u001b[0m\u001b[1;33m\u001b[0m\u001b[1;33m\u001b[0m\u001b[0m\n\u001b[0m\u001b[0;32m   5488\u001b[0m \u001b[1;33m\u001b[0m\u001b[0m\n\u001b[0;32m   5489\u001b[0m     \u001b[1;32mdef\u001b[0m \u001b[0m__setattr__\u001b[0m\u001b[1;33m(\u001b[0m\u001b[0mself\u001b[0m\u001b[1;33m,\u001b[0m \u001b[0mname\u001b[0m\u001b[1;33m:\u001b[0m \u001b[0mstr\u001b[0m\u001b[1;33m,\u001b[0m \u001b[0mvalue\u001b[0m\u001b[1;33m)\u001b[0m \u001b[1;33m->\u001b[0m \u001b[1;32mNone\u001b[0m\u001b[1;33m:\u001b[0m\u001b[1;33m\u001b[0m\u001b[1;33m\u001b[0m\u001b[0m\n",
      "\u001b[1;31mAttributeError\u001b[0m: 'DataFrame' object has no attribute 'cut'"
     ]
    }
   ],
   "source": [
    "bins = [0, 9.99, 19.99, 29.99, 39.99, 49.99, 59.99, 69.99, 79.99, 89.99, 99.99]\n",
    "\n",
    "# Create the names for the bins\n",
    "group_names = [\"0-10\", \"10-20\", \"20-30\", \"30-40\", \"40-50\",\"50-60\",\"70-80\",\"80-90\",\"90-100\"]\n",
    "\n",
    "player_demographics[\"Age\"] = player_demographics.cut(df[\"Age\"], bins, labels=group_names, include_lowest=True)\n",
    "player_demographics"
   ]
  }
 ],
 "metadata": {
  "kernelspec": {
   "display_name": "Python 3 (ipykernel)",
   "language": "python",
   "name": "python3"
  },
  "language_info": {
   "codemirror_mode": {
    "name": "ipython",
    "version": 3
   },
   "file_extension": ".py",
   "mimetype": "text/x-python",
   "name": "python",
   "nbconvert_exporter": "python",
   "pygments_lexer": "ipython3",
   "version": "3.9.7"
  }
 },
 "nbformat": 4,
 "nbformat_minor": 5
}
