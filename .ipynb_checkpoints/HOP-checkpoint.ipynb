{
 "cells": [
  {
   "cell_type": "code",
   "execution_count": 4,
   "id": "b16f9a85",
   "metadata": {},
   "outputs": [],
   "source": [
    "# Dependencies and Setup\n",
    "import pandas as pd\n",
    "\n",
    "# File to Load\n",
    "file_to_load = \"../Resources/purchase_data.csv\"\n",
    "\n",
    "# Read Purchasing File and store into Pandas data frame\n",
    "purchase_data = pd.read_csv(file_to_load)"
   ]
  },
  {
   "cell_type": "code",
   "execution_count": 5,
   "id": "98a93200",
   "metadata": {},
   "outputs": [
    {
     "data": {
      "text/plain": [
       "576"
      ]
     },
     "execution_count": 5,
     "metadata": {},
     "output_type": "execute_result"
    }
   ],
   "source": [
    "user_counts = purchase_data[\"SN\"].unique()\n",
    "len(user_counts)"
   ]
  },
  {
   "cell_type": "code",
   "execution_count": 6,
   "id": "62fdcc79",
   "metadata": {},
   "outputs": [
    {
     "data": {
      "text/html": [
       "<div>\n",
       "<style scoped>\n",
       "    .dataframe tbody tr th:only-of-type {\n",
       "        vertical-align: middle;\n",
       "    }\n",
       "\n",
       "    .dataframe tbody tr th {\n",
       "        vertical-align: top;\n",
       "    }\n",
       "\n",
       "    .dataframe thead th {\n",
       "        text-align: right;\n",
       "    }\n",
       "</style>\n",
       "<table border=\"1\" class=\"dataframe\">\n",
       "  <thead>\n",
       "    <tr style=\"text-align: right;\">\n",
       "      <th></th>\n",
       "      <th>Total Players</th>\n",
       "    </tr>\n",
       "  </thead>\n",
       "  <tbody>\n",
       "    <tr>\n",
       "      <th>0</th>\n",
       "      <td>576</td>\n",
       "    </tr>\n",
       "  </tbody>\n",
       "</table>\n",
       "</div>"
      ],
      "text/plain": [
       "   Total Players\n",
       "0            576"
      ]
     },
     "execution_count": 6,
     "metadata": {},
     "output_type": "execute_result"
    }
   ],
   "source": [
    "player_demographics = purchase_data.loc[:, [\"Gender\", \"SN\", \"Age\"]]\n",
    "player_demographics = player_demographics.drop_duplicates()\n",
    "d = pd.DataFrame([{\"Total Players\":len(player_demographics)}])\n",
    "d"
   ]
  },
  {
   "cell_type": "code",
   "execution_count": 7,
   "id": "2a4104b9",
   "metadata": {},
   "outputs": [],
   "source": []
  },
  {
   "cell_type": "code",
   "execution_count": 12,
   "id": "64899339",
   "metadata": {},
   "outputs": [
    {
     "data": {
      "text/html": [
       "<div>\n",
       "<style scoped>\n",
       "    .dataframe tbody tr th:only-of-type {\n",
       "        vertical-align: middle;\n",
       "    }\n",
       "\n",
       "    .dataframe tbody tr th {\n",
       "        vertical-align: top;\n",
       "    }\n",
       "\n",
       "    .dataframe thead th {\n",
       "        text-align: right;\n",
       "    }\n",
       "</style>\n",
       "<table border=\"1\" class=\"dataframe\">\n",
       "  <thead>\n",
       "    <tr style=\"text-align: right;\">\n",
       "      <th></th>\n",
       "      <th>Count</th>\n",
       "      <th>Percent</th>\n",
       "    </tr>\n",
       "    <tr>\n",
       "      <th>Gender</th>\n",
       "      <th></th>\n",
       "      <th></th>\n",
       "    </tr>\n",
       "  </thead>\n",
       "  <tbody>\n",
       "    <tr>\n",
       "      <th>Male</th>\n",
       "      <td>484</td>\n",
       "      <td>0.840278</td>\n",
       "    </tr>\n",
       "    <tr>\n",
       "      <th>Female</th>\n",
       "      <td>81</td>\n",
       "      <td>0.140625</td>\n",
       "    </tr>\n",
       "    <tr>\n",
       "      <th>Other</th>\n",
       "      <td>11</td>\n",
       "      <td>0.019097</td>\n",
       "    </tr>\n",
       "  </tbody>\n",
       "</table>\n",
       "</div>"
      ],
      "text/plain": [
       "        Count   Percent\n",
       "Gender                 \n",
       "Male      484  0.840278\n",
       "Female     81  0.140625\n",
       "Other      11  0.019097"
      ]
     },
     "execution_count": 12,
     "metadata": {},
     "output_type": "execute_result"
    }
   ],
   "source": [
    "gender_count = player_demographics[\"Gender\"].value_counts()\n",
    "gender_percent = player_demographics[\"Gender\"].value_counts(normalize=True)\n",
    "\n",
    "w = pd.DataFrame([{\"Gender\": \"Male\", \"Count\":gender_count[0], \"Percent\": gender_percent[0]},\n",
    "                  {\"Gender\": \"Female\", \"Count\":gender_count[1], \"Percent\": gender_percent[1]},\n",
    "                  {\"Gender\": \"Other\", \"Count\":gender_count[2], \"Percent\": gender_percent[2]}])\n",
    "w.set_index('Gender', inplace=True)\n",
    "\n",
    "#Q: pd.DataFrame([{\"Gender\": \"Male\", \"Count\":q[0], \"Percent\": r[0]}])set_index('Gender', inplace=True)\n",
    "# Why doesn't the above work?\n",
    "\n",
    "w"
   ]
  },
  {
   "cell_type": "code",
   "execution_count": 13,
   "id": "a342ad54",
   "metadata": {},
   "outputs": [
    {
     "data": {
      "text/html": [
       "<div>\n",
       "<style scoped>\n",
       "    .dataframe tbody tr th:only-of-type {\n",
       "        vertical-align: middle;\n",
       "    }\n",
       "\n",
       "    .dataframe tbody tr th {\n",
       "        vertical-align: top;\n",
       "    }\n",
       "\n",
       "    .dataframe thead th {\n",
       "        text-align: right;\n",
       "    }\n",
       "</style>\n",
       "<table border=\"1\" class=\"dataframe\">\n",
       "  <thead>\n",
       "    <tr style=\"text-align: right;\">\n",
       "      <th></th>\n",
       "      <th>Purchase Count</th>\n",
       "      <th>Average Purchase Price</th>\n",
       "      <th>Total Purchase Value</th>\n",
       "      <th>Avg Total Purchase per Person</th>\n",
       "    </tr>\n",
       "    <tr>\n",
       "      <th>Gender</th>\n",
       "      <th></th>\n",
       "      <th></th>\n",
       "      <th></th>\n",
       "      <th></th>\n",
       "    </tr>\n",
       "  </thead>\n",
       "  <tbody>\n",
       "    <tr>\n",
       "      <th>Male</th>\n",
       "      <td>652</td>\n",
       "      <td>3.203009</td>\n",
       "      <td>361.94</td>\n",
       "      <td>3.203009</td>\n",
       "    </tr>\n",
       "    <tr>\n",
       "      <th>Female</th>\n",
       "      <td>113</td>\n",
       "      <td>3.017853</td>\n",
       "      <td>1967.64</td>\n",
       "      <td>3.017853</td>\n",
       "    </tr>\n",
       "    <tr>\n",
       "      <th>Other</th>\n",
       "      <td>15</td>\n",
       "      <td>3.346000</td>\n",
       "      <td>50.19</td>\n",
       "      <td>3.346000</td>\n",
       "    </tr>\n",
       "  </tbody>\n",
       "</table>\n",
       "</div>"
      ],
      "text/plain": [
       "        Purchase Count  Average Purchase Price  Total Purchase Value  \\\n",
       "Gender                                                                 \n",
       "Male               652                3.203009                361.94   \n",
       "Female             113                3.017853               1967.64   \n",
       "Other               15                3.346000                 50.19   \n",
       "\n",
       "        Avg Total Purchase per Person  \n",
       "Gender                                 \n",
       "Male                         3.203009  \n",
       "Female                       3.017853  \n",
       "Other                        3.346000  "
      ]
     },
     "execution_count": 13,
     "metadata": {},
     "output_type": "execute_result"
    }
   ],
   "source": [
    "pc = purchase_data[\"Gender\"].value_counts()\n",
    "app = (purchase_data.groupby([\"Gender\"])[\"Price\"].sum() / purchase_data[\"Gender\"].value_counts())\n",
    "tpv = purchase_data.groupby([\"Gender\"])[\"Price\"].sum()\n",
    "\n",
    "atp = (purchase_data.groupby([\"Gender\"])[\"Price\"].sum() / purchase_data[\"Gender\"].value_counts())\n",
    "\n",
    "    # Variable personal_total = 0 to begin with and variable inst = 1\n",
    "    # If SN is a duplicate, then add \"Price\" to a personal_total and add 1 to inst\n",
    "    # Once through the list devide personal_total by inst for each SN\n",
    "        ## This would work best if you grabbed SN of a row first and compared it to\n",
    "        ## all the rest until there are none left to compare it to\n",
    "        # Maybe this works best in a for loop. For each SN move down the list\n",
    "        # - but then I need to deleate all the instances of SN seen - so deleate\n",
    "        # immediatly after calculation is done before proceeding to the next row\n",
    "\n",
    "\n",
    "\n",
    "v = pd.DataFrame([{\"Gender\": \"Male\", \"Purchase Count\": pc[0], \"Average Purchase Price\": app[0], \"Total Purchase Value\": tpv[0],\"Avg Total Purchase per Person\": atp[0]},\n",
    "                  {\"Gender\": \"Female\", \"Purchase Count\": pc[1], \"Average Purchase Price\": app[1], \"Total Purchase Value\": tpv[1],\"Avg Total Purchase per Person\": atp[1]},\n",
    "                  {\"Gender\": \"Other\", \"Purchase Count\": pc[2], \"Average Purchase Price\": app[2], \"Total Purchase Value\": tpv[2],\"Avg Total Purchase per Person\": atp[2]}])\n",
    "v.set_index('Gender', inplace=True)\n",
    "v\n"
   ]
  },
  {
   "cell_type": "code",
   "execution_count": 48,
   "id": "7526546c",
   "metadata": {},
   "outputs": [
    {
     "data": {
      "text/html": [
       "<div>\n",
       "<style scoped>\n",
       "    .dataframe tbody tr th:only-of-type {\n",
       "        vertical-align: middle;\n",
       "    }\n",
       "\n",
       "    .dataframe tbody tr th {\n",
       "        vertical-align: top;\n",
       "    }\n",
       "\n",
       "    .dataframe thead th {\n",
       "        text-align: right;\n",
       "    }\n",
       "</style>\n",
       "<table border=\"1\" class=\"dataframe\">\n",
       "  <thead>\n",
       "    <tr style=\"text-align: right;\">\n",
       "      <th></th>\n",
       "      <th>Count</th>\n",
       "      <th>Percent</th>\n",
       "    </tr>\n",
       "    <tr>\n",
       "      <th>Age</th>\n",
       "      <th></th>\n",
       "      <th></th>\n",
       "    </tr>\n",
       "  </thead>\n",
       "  <tbody>\n",
       "    <tr>\n",
       "      <th>&lt;10</th>\n",
       "      <td>17</td>\n",
       "      <td>0.029514</td>\n",
       "    </tr>\n",
       "    <tr>\n",
       "      <th>0-14</th>\n",
       "      <td>20</td>\n",
       "      <td>0.034722</td>\n",
       "    </tr>\n",
       "    <tr>\n",
       "      <th>14-19</th>\n",
       "      <td>92</td>\n",
       "      <td>0.159722</td>\n",
       "    </tr>\n",
       "    <tr>\n",
       "      <th>19-24</th>\n",
       "      <td>227</td>\n",
       "      <td>0.394097</td>\n",
       "    </tr>\n",
       "    <tr>\n",
       "      <th>24-29</th>\n",
       "      <td>115</td>\n",
       "      <td>0.199653</td>\n",
       "    </tr>\n",
       "    <tr>\n",
       "      <th>29-34</th>\n",
       "      <td>55</td>\n",
       "      <td>0.095486</td>\n",
       "    </tr>\n",
       "    <tr>\n",
       "      <th>34-39</th>\n",
       "      <td>32</td>\n",
       "      <td>0.055556</td>\n",
       "    </tr>\n",
       "    <tr>\n",
       "      <th>40+</th>\n",
       "      <td>115</td>\n",
       "      <td>0.199653</td>\n",
       "    </tr>\n",
       "  </tbody>\n",
       "</table>\n",
       "</div>"
      ],
      "text/plain": [
       "       Count   Percent\n",
       "Age                   \n",
       "<10       17  0.029514\n",
       "0-14      20  0.034722\n",
       "14-19     92  0.159722\n",
       "19-24    227  0.394097\n",
       "24-29    115  0.199653\n",
       "29-34     55  0.095486\n",
       "34-39     32  0.055556\n",
       "40+      115  0.199653"
      ]
     },
     "execution_count": 48,
     "metadata": {},
     "output_type": "execute_result"
    }
   ],
   "source": [
    "bins = [0,9.99, 13.99, 18.99, 23.99, 28.99, 33.99, 38.99, 99.99]\n",
    "\n",
    "# Create the names for the bins\n",
    "group_names = [\"<10\",\"0-14\", \"14-19\", \"19-24\", \"24-29\", \"29-34\",\"34-39\",\"40+\"]\n",
    "\n",
    "player_demographics[\"Age Range\"] = pd.cut(player_demographics[\"Age\"], bins, labels=group_names)\n",
    "\n",
    "age_count = player_demographics[\"Age Range\"].value_counts()\n",
    "age_percent = player_demographics[\"Age Range\"].value_counts(normalize = True)\n",
    "\n",
    "age_count\n",
    "\n",
    "q = pd.DataFrame([{\"Age\": \"<10\", \"Count\":age_count[-1], \"Percent\": age_percent[-1]},\n",
    "                  {\"Age\": \"0-14\", \"Count\":age_count[-3], \"Percent\": age_percent[-3]},\n",
    "                  {\"Age\": \"14-19\", \"Count\":age_count[2], \"Percent\": age_percent[2]},\n",
    "                  {\"Age\": \"19-24\", \"Count\":age_count[0], \"Percent\": age_percent[0]},\n",
    "                  {\"Age\": \"24-29\", \"Count\":age_count[1], \"Percent\": age_percent[1]},\n",
    "                  {\"Age\": \"29-34\", \"Count\":age_count[3], \"Percent\": age_percent[3]},\n",
    "                  {\"Age\": \"34-39\", \"Count\":age_count[4], \"Percent\": age_percent[4]},\n",
    "                  {\"Age\": \"40+\", \"Count\":age_count[1], \"Percent\": age_percent[1]}])\n",
    "q.set_index('Age', inplace=True)\n",
    "\n",
    "q"
   ]
  },
  {
   "cell_type": "code",
   "execution_count": 51,
   "id": "c7d7eca2",
   "metadata": {},
   "outputs": [
    {
     "ename": "KeyError",
     "evalue": "'Age Range'",
     "output_type": "error",
     "traceback": [
      "\u001b[1;31m---------------------------------------------------------------------------\u001b[0m",
      "\u001b[1;31mKeyError\u001b[0m                                  Traceback (most recent call last)",
      "\u001b[1;32m~\\AppData\\Local\\Temp/ipykernel_12612/3860715428.py\u001b[0m in \u001b[0;36m<module>\u001b[1;34m\u001b[0m\n\u001b[0;32m      7\u001b[0m \u001b[1;33m\u001b[0m\u001b[0m\n\u001b[0;32m      8\u001b[0m \u001b[0mapc\u001b[0m \u001b[1;33m=\u001b[0m \u001b[0mplayer_demographics\u001b[0m\u001b[1;33m[\u001b[0m\u001b[1;34m\"Age Range\"\u001b[0m\u001b[1;33m]\u001b[0m\u001b[1;33m.\u001b[0m\u001b[0mvalue_counts\u001b[0m\u001b[1;33m(\u001b[0m\u001b[1;33m)\u001b[0m\u001b[1;33m\u001b[0m\u001b[1;33m\u001b[0m\u001b[0m\n\u001b[1;32m----> 9\u001b[1;33m \u001b[0maapp\u001b[0m \u001b[1;33m=\u001b[0m \u001b[1;33m(\u001b[0m\u001b[0mpurchase_data\u001b[0m\u001b[1;33m.\u001b[0m\u001b[0mgroupby\u001b[0m\u001b[1;33m(\u001b[0m\u001b[1;33m[\u001b[0m\u001b[1;34m\"Age Range\"\u001b[0m\u001b[1;33m]\u001b[0m\u001b[1;33m)\u001b[0m\u001b[1;33m[\u001b[0m\u001b[1;34m\"Price\"\u001b[0m\u001b[1;33m]\u001b[0m\u001b[1;33m.\u001b[0m\u001b[0msum\u001b[0m\u001b[1;33m(\u001b[0m\u001b[1;33m)\u001b[0m \u001b[1;33m/\u001b[0m \u001b[0mpurchase_data\u001b[0m\u001b[1;33m[\u001b[0m\u001b[1;34m\"Age Range\"\u001b[0m\u001b[1;33m]\u001b[0m\u001b[1;33m.\u001b[0m\u001b[0mvalue_counts\u001b[0m\u001b[1;33m(\u001b[0m\u001b[1;33m)\u001b[0m\u001b[1;33m)\u001b[0m\u001b[1;33m\u001b[0m\u001b[1;33m\u001b[0m\u001b[0m\n\u001b[0m\u001b[0;32m     10\u001b[0m \u001b[0matpv\u001b[0m \u001b[1;33m=\u001b[0m \u001b[0mpurchase_data\u001b[0m\u001b[1;33m.\u001b[0m\u001b[0mgroupby\u001b[0m\u001b[1;33m(\u001b[0m\u001b[1;33m[\u001b[0m\u001b[1;34m\"Age Range\"\u001b[0m\u001b[1;33m]\u001b[0m\u001b[1;33m)\u001b[0m\u001b[1;33m[\u001b[0m\u001b[1;34m\"Price\"\u001b[0m\u001b[1;33m]\u001b[0m\u001b[1;33m.\u001b[0m\u001b[0msum\u001b[0m\u001b[1;33m(\u001b[0m\u001b[1;33m)\u001b[0m\u001b[1;33m\u001b[0m\u001b[1;33m\u001b[0m\u001b[0m\n\u001b[0;32m     11\u001b[0m \u001b[0maatp\u001b[0m \u001b[1;33m=\u001b[0m \u001b[1;33m(\u001b[0m\u001b[0mpurchase_data\u001b[0m\u001b[1;33m.\u001b[0m\u001b[0mgroupby\u001b[0m\u001b[1;33m(\u001b[0m\u001b[1;33m[\u001b[0m\u001b[1;34m\"Age Range\"\u001b[0m\u001b[1;33m]\u001b[0m\u001b[1;33m)\u001b[0m\u001b[1;33m[\u001b[0m\u001b[1;34m\"Price\"\u001b[0m\u001b[1;33m]\u001b[0m\u001b[1;33m.\u001b[0m\u001b[0msum\u001b[0m\u001b[1;33m(\u001b[0m\u001b[1;33m)\u001b[0m \u001b[1;33m/\u001b[0m \u001b[0mpurchase_data\u001b[0m\u001b[1;33m[\u001b[0m\u001b[1;34m\"Age Range\"\u001b[0m\u001b[1;33m]\u001b[0m\u001b[1;33m.\u001b[0m\u001b[0mvalue_counts\u001b[0m\u001b[1;33m(\u001b[0m\u001b[1;33m)\u001b[0m\u001b[1;33m)\u001b[0m\u001b[1;33m\u001b[0m\u001b[1;33m\u001b[0m\u001b[0m\n",
      "\u001b[1;32m~\\anaconda3\\lib\\site-packages\\pandas\\core\\frame.py\u001b[0m in \u001b[0;36mgroupby\u001b[1;34m(self, by, axis, level, as_index, sort, group_keys, squeeze, observed, dropna)\u001b[0m\n\u001b[0;32m   7629\u001b[0m         \u001b[1;31m# error: Argument \"squeeze\" to \"DataFrameGroupBy\" has incompatible type\u001b[0m\u001b[1;33m\u001b[0m\u001b[1;33m\u001b[0m\u001b[0m\n\u001b[0;32m   7630\u001b[0m         \u001b[1;31m# \"Union[bool, NoDefault]\"; expected \"bool\"\u001b[0m\u001b[1;33m\u001b[0m\u001b[1;33m\u001b[0m\u001b[0m\n\u001b[1;32m-> 7631\u001b[1;33m         return DataFrameGroupBy(\n\u001b[0m\u001b[0;32m   7632\u001b[0m             \u001b[0mobj\u001b[0m\u001b[1;33m=\u001b[0m\u001b[0mself\u001b[0m\u001b[1;33m,\u001b[0m\u001b[1;33m\u001b[0m\u001b[1;33m\u001b[0m\u001b[0m\n\u001b[0;32m   7633\u001b[0m             \u001b[0mkeys\u001b[0m\u001b[1;33m=\u001b[0m\u001b[0mby\u001b[0m\u001b[1;33m,\u001b[0m\u001b[1;33m\u001b[0m\u001b[1;33m\u001b[0m\u001b[0m\n",
      "\u001b[1;32m~\\anaconda3\\lib\\site-packages\\pandas\\core\\groupby\\groupby.py\u001b[0m in \u001b[0;36m__init__\u001b[1;34m(self, obj, keys, axis, level, grouper, exclusions, selection, as_index, sort, group_keys, squeeze, observed, mutated, dropna)\u001b[0m\n\u001b[0;32m    887\u001b[0m             \u001b[1;32mfrom\u001b[0m \u001b[0mpandas\u001b[0m\u001b[1;33m.\u001b[0m\u001b[0mcore\u001b[0m\u001b[1;33m.\u001b[0m\u001b[0mgroupby\u001b[0m\u001b[1;33m.\u001b[0m\u001b[0mgrouper\u001b[0m \u001b[1;32mimport\u001b[0m \u001b[0mget_grouper\u001b[0m\u001b[1;33m\u001b[0m\u001b[1;33m\u001b[0m\u001b[0m\n\u001b[0;32m    888\u001b[0m \u001b[1;33m\u001b[0m\u001b[0m\n\u001b[1;32m--> 889\u001b[1;33m             grouper, exclusions, obj = get_grouper(\n\u001b[0m\u001b[0;32m    890\u001b[0m                 \u001b[0mobj\u001b[0m\u001b[1;33m,\u001b[0m\u001b[1;33m\u001b[0m\u001b[1;33m\u001b[0m\u001b[0m\n\u001b[0;32m    891\u001b[0m                 \u001b[0mkeys\u001b[0m\u001b[1;33m,\u001b[0m\u001b[1;33m\u001b[0m\u001b[1;33m\u001b[0m\u001b[0m\n",
      "\u001b[1;32m~\\anaconda3\\lib\\site-packages\\pandas\\core\\groupby\\grouper.py\u001b[0m in \u001b[0;36mget_grouper\u001b[1;34m(obj, key, axis, level, sort, observed, mutated, validate, dropna)\u001b[0m\n\u001b[0;32m    860\u001b[0m                 \u001b[0min_axis\u001b[0m\u001b[1;33m,\u001b[0m \u001b[0mlevel\u001b[0m\u001b[1;33m,\u001b[0m \u001b[0mgpr\u001b[0m \u001b[1;33m=\u001b[0m \u001b[1;32mFalse\u001b[0m\u001b[1;33m,\u001b[0m \u001b[0mgpr\u001b[0m\u001b[1;33m,\u001b[0m \u001b[1;32mNone\u001b[0m\u001b[1;33m\u001b[0m\u001b[1;33m\u001b[0m\u001b[0m\n\u001b[0;32m    861\u001b[0m             \u001b[1;32melse\u001b[0m\u001b[1;33m:\u001b[0m\u001b[1;33m\u001b[0m\u001b[1;33m\u001b[0m\u001b[0m\n\u001b[1;32m--> 862\u001b[1;33m                 \u001b[1;32mraise\u001b[0m \u001b[0mKeyError\u001b[0m\u001b[1;33m(\u001b[0m\u001b[0mgpr\u001b[0m\u001b[1;33m)\u001b[0m\u001b[1;33m\u001b[0m\u001b[1;33m\u001b[0m\u001b[0m\n\u001b[0m\u001b[0;32m    863\u001b[0m         \u001b[1;32melif\u001b[0m \u001b[0misinstance\u001b[0m\u001b[1;33m(\u001b[0m\u001b[0mgpr\u001b[0m\u001b[1;33m,\u001b[0m \u001b[0mGrouper\u001b[0m\u001b[1;33m)\u001b[0m \u001b[1;32mand\u001b[0m \u001b[0mgpr\u001b[0m\u001b[1;33m.\u001b[0m\u001b[0mkey\u001b[0m \u001b[1;32mis\u001b[0m \u001b[1;32mnot\u001b[0m \u001b[1;32mNone\u001b[0m\u001b[1;33m:\u001b[0m\u001b[1;33m\u001b[0m\u001b[1;33m\u001b[0m\u001b[0m\n\u001b[0;32m    864\u001b[0m             \u001b[1;31m# Add key to exclusions\u001b[0m\u001b[1;33m\u001b[0m\u001b[1;33m\u001b[0m\u001b[0m\n",
      "\u001b[1;31mKeyError\u001b[0m: 'Age Range'"
     ]
    }
   ],
   "source": [
    "bins = [0,9.99, 13.99, 18.99, 23.99, 28.99, 33.99, 38.99, 99.99]\n",
    "\n",
    "# Create the names for the bins\n",
    "group_names = [\"<10\",\"0-14\", \"14-19\", \"19-24\", \"24-29\", \"29-34\",\"34-39\",\"40+\"]\n",
    "\n",
    "player_demographics[\"Age Range\"] = pd.cut(player_demographics[\"Age\"], bins, labels=group_names)\n",
    "\n",
    "apc = player_demographics[\"Age Range\"].value_counts()\n",
    "aapp = (purchase_data.groupby([\"Age Range\"])[\"Price\"].sum() / purchase_data[\"Age Range\"].value_counts())\n",
    "atpv = purchase_data.groupby([\"Age Range\"])[\"Price\"].sum()\n",
    "aatp = (purchase_data.groupby([\"Age Range\"])[\"Price\"].sum() / purchase_data[\"Age Range\"].value_counts())\n",
    "\n",
    "\n",
    "w = pd.DataFrame([{\"Age\": \"<10\", \"Purchase Count\": apc[-1], \"Average Purchase Price\": aapp[-1], \"Total Purchase Value\": atpv[-1],\"Avg Total Purchase per Person\": aatp[-1]},\n",
    "                  {\"Age\": \"10-14\", \"Purchase Count\": apc[-3], \"Average Purchase Price\": aapp[-3], \"Total Purchase Value\": atpv[-3],\"Avg Total Purchase per Person\": aatp[-3]},\n",
    "                  {\"Age\": \"14-19\", \"Purchase Count\": apc[2], \"Average Purchase Price\": aapp[2], \"Total Purchase Value\": atpv[2],\"Avg Total Purchase per Person\": aatp[2]},\n",
    "                  {\"Age\": \"19-24\", \"Purchase Count\": apc[0], \"Average Purchase Price\": aapp[0], \"Total Purchase Value\": atpv[0],\"Avg Total Purchase per Person\": aatp[0]},\n",
    "                  {\"Age\": \"24-29\", \"Purchase Count\": apc[1], \"Average Purchase Price\": aapp[1], \"Total Purchase Value\": atpv[1],\"Avg Total Purchase per Person\": aatp[1]},\n",
    "                  {\"Age\": \"29-34\", \"Purchase Count\": apc[3], \"Average Purchase Price\": aapp[3], \"Total Purchase Value\": atpv[3],\"Avg Total Purchase per Person\": aatp[3]},\n",
    "                  {\"Age\": \"34-39\", \"Purchase Count\": apc[4], \"Average Purchase Price\": aapp[4], \"Total Purchase Value\": atpv[4],\"Avg Total Purchase per Person\": aatp[4]},\n",
    "                  {\"Age\": \"40+\", \"Purchase Count\": apc[-3], \"Average Purchase Price\": aapp[-3], \"Total Purchase Value\": atpv[-3],\"Avg Total Purchase per Person\": atp[-3]}])\n",
    "w"
   ]
  },
  {
   "cell_type": "code",
   "execution_count": null,
   "id": "063aafb9",
   "metadata": {},
   "outputs": [],
   "source": [
    "a"
   ]
  }
 ],
 "metadata": {
  "kernelspec": {
   "display_name": "Python 3 (ipykernel)",
   "language": "python",
   "name": "python3"
  },
  "language_info": {
   "codemirror_mode": {
    "name": "ipython",
    "version": 3
   },
   "file_extension": ".py",
   "mimetype": "text/x-python",
   "name": "python",
   "nbconvert_exporter": "python",
   "pygments_lexer": "ipython3",
   "version": "3.9.7"
  }
 },
 "nbformat": 4,
 "nbformat_minor": 5
}
